{
  "nbformat": 4,
  "nbformat_minor": 0,
  "metadata": {
    "colab": {
      "provenance": [],
      "include_colab_link": true
    },
    "kernelspec": {
      "name": "python3",
      "display_name": "Python 3"
    },
    "language_info": {
      "name": "python"
    }
  },
  "cells": [
    {
      "cell_type": "markdown",
      "metadata": {
        "id": "view-in-github",
        "colab_type": "text"
      },
      "source": [
        "<a href=\"https://colab.research.google.com/github/BiancaCordeiro/biomec/blob/main/BiancaCordeiro_P2.ipynb\" target=\"_parent\"><img src=\"https://colab.research.google.com/assets/colab-badge.svg\" alt=\"Open In Colab\"/></a>"
      ]
    },
    {
      "cell_type": "markdown",
      "source": [
        "# Prova 2 - Biomecânica I 2022\n",
        "\n",
        "> **Nome**: Bianca Cordeiro Anselmo Ramos        \n",
        "> **RA**: 11201922302\n",
        "\n"
      ],
      "metadata": {
        "id": "2t4GbW7nPwc_"
      }
    },
    {
      "cell_type": "markdown",
      "source": [
        "---\n",
        "$\\color{red}{\\textbf{Sobre a prova:}}$  \n",
        "- A prova deve ser entregue até $\\color{red}{\\text{23h59 min do dia 11/12/2022 (domingo)}}$. Não serão aceitas provas entregues após data e horário estipulado.  \n",
        "- A prova deve ser feita individualmente.\n",
        "- Se for detectado qualquer plágio na realização da prova, será atribuída nota zero para todos os envolvidos no plágio.\n",
        "- Deve ser entregue a solução computacional nesse notebook (arquivo com extensão .ipynb, Jupyter ou Colab).  \n",
        "- Nomeie o notebook com seu nome seguido por _P2 e a extensão ipynb.\n",
        "- O notebook deve ser possível de executar e reproduzir os cálculos computacionais em Python e estar bem redigido.  \n",
        "- Dica: Para verificar que seu notebook executa tudo como planejado no Google Colab, selecione a opção \"Reiniciar e executar tudo\" no menu \"Ambiente de execução\" e confira se está tudo certo.   \n",
        "---"
      ],
      "metadata": {
        "id": "jatii-cGVMiS"
      }
    },
    {
      "cell_type": "markdown",
      "source": [
        "1. Considere o arquivo com dados cinemáticos de uma análise de marcha disponível em [https://raw.githubusercontent.com/BMClab/BMC/master/data/walk.trc](https://raw.githubusercontent.com/BMClab/BMC/master/data/walk.trc) (leia o arquivo direto desta URL e não de seu Google drive).  \n",
        "Nesse arquivo estão contidos as coordenadas de diversos pontos\n",
        "do corpo (ver os nomes de cada marca no arquivo supplementary_material.pdf) de um sujeito enquanto ele anda. Sabe-se que o sujeito andou na direção do eixo Z das coordenadas do laboratório.   \n",
        "Considerando o formalismo de ângulos de Euler:  \n",
        "  a) (0.5 ponto) Determine a sequência de eixos de rotações para que a **primeira rotação** seja no plano sagital (flexão/extensão), a **segunda** no plano transversal (rotação lateral/medial) e a **terceira** no plano frontal (abdução/adução).  \n",
        "  b) (0.5 ponto) Qual a matriz de rotação que resulta dessa sequência de rotações?  \n",
        "  c) (1 ponto) Determine os ângulos de Euler para a **articulação do quadril (hip) do lado direito** em torno dos 3 eixos ao longo do tempo.  \n",
        "  d) (0.5 ponto) Faça um gráfico para cada um dos 3 ângulos.  \n",
        "  e) (0.5) Calcule e faça o gráfico de cada um dos componentes da velocidade angular da coxa direita.  \n",
        "\n",
        "$\\color{red}{\\textbf{Convenções}}$ : Os arquivos anexos (os mesmos do experimento 2) detalham as convenções utilizadas. O centro articular (Joint Center) do quadril direito são as marcas 'V_R.Hip_JC_X', 'V_R.Hip_JC_Y', 'V_R.Hip_JC_Z' e para o joelho direito 'V_R.Knee_JC_X', 'V_R.Knee_JC_Y', 'V_R.Knee_JC_Z'. A letra 'V' é a inicial de Virtual porque estas marcas não podem existir fisicamente (dentro do corpo); elas foram reconstruídas a partir de uma fórmula matemática baseada em média populacional (quadril) e de marca anatômica que estava presente numa coleta denominada estática (joelho)."
      ],
      "metadata": {
        "id": "iB9lNaAQPwt9"
      }
    },
    {
      "cell_type": "markdown",
      "source": [
        "# **Importando bibliotecas**: Pandas, numpay, matplotlib.pyplot e sympy; **e a função** FancyArrowPatch da biblioteca matplotlib.patches"
      ],
      "metadata": {
        "id": "Nkm3M-87rv6M"
      }
    },
    {
      "cell_type": "code",
      "source": [
        "import pandas as pd\n",
        "import numpy as np\n",
        "import matplotlib.pyplot as plt\n",
        "import sympy as sym\n",
        "from matplotlib.patches import FancyArrowPatch"
      ],
      "metadata": {
        "id": "61bVuiB0SYDz"
      },
      "execution_count": null,
      "outputs": []
    },
    {
      "cell_type": "markdown",
      "source": [
        "# **Importando os dados do caminhar da pessoa**\n",
        "**Foi excluída a coluna unnamed: 167 (coluna 168) porque ao realizar testes, a ultima coluna com dados seria a coluna 167 (V_L.MT2_Z).**\n",
        "\n",
        "**Para cada marca do corpo foi adicionado se a coluna se referia a marca no eixo X, Y ou Z, para que se torne mais facil de chamar certo dado e fica mais fácil de visualizar. Os dados foram convertidos para float para serem trabalhados como números ao decorrer da prova.**"
      ],
      "metadata": {
        "id": "956XmNx0sT7u"
      }
    },
    {
      "cell_type": "code",
      "source": [
        "data = pd.read_csv('https://raw.githubusercontent.com/BMClab/BMC/master/data/walk.trc', skiprows=3, sep='\\t')\n",
        "\n",
        "data = data.drop(columns='Unnamed: 167')\n",
        "nome_das_colunas = list(data.columns)\n",
        "for i in range(2, len(data.columns), 3):\n",
        "  coluna_aux = nome_das_colunas[i]\n",
        "  nome_das_colunas[i] = coluna_aux + '_X'\n",
        "  nome_das_colunas[i+1] = coluna_aux + '_Y'\n",
        "  nome_das_colunas[i+2] = coluna_aux + '_Z'\n",
        "\n",
        "data.columns = nome_das_colunas\n",
        "data = data.drop(index=0)\n",
        "data = data.astype(float)\n",
        "data"
      ],
      "metadata": {
        "colab": {
          "base_uri": "https://localhost:8080/",
          "height": 488
        },
        "id": "W_kbrJZ9SJDh",
        "outputId": "689aa65e-b35d-46d8-f235-89112b6404f5"
      },
      "execution_count": null,
      "outputs": [
        {
          "output_type": "execute_result",
          "data": {
            "text/plain": [
              "     Frame#   Time    R.ASIS_X   R.ASIS_Y   R.ASIS_Z    L.ASIS_X   L.ASIS_Y  \\\n",
              "1       1.0  0.000   516.54236  966.88000 -306.10416   531.67438  981.34631   \n",
              "2       2.0  0.007   523.92200  967.96594 -308.23773   539.83044  982.78345   \n",
              "3       3.0  0.013   531.20807  968.92493 -310.12112   547.60663  984.00653   \n",
              "4       4.0  0.020   538.24219  969.77612 -311.72064   555.40649  985.09637   \n",
              "5       5.0  0.027   545.11420  970.81128 -313.07266   563.14301  986.00916   \n",
              "..      ...    ...         ...        ...        ...         ...        ...   \n",
              "180   180.0  1.193  1875.04834  958.35535 -290.67004  1897.06970  960.27222   \n",
              "181   181.0  1.200  1885.37988  958.09222 -291.67429  1907.52881  960.81549   \n",
              "182   182.0  1.207  1895.50452  957.80798 -292.71875  1917.97290  961.49707   \n",
              "183   183.0  1.213  1905.40540  957.61029 -293.84250  1928.34631  962.31494   \n",
              "184   184.0  1.220  1916.91516  958.57813 -294.85443  1938.59363  963.29272   \n",
              "\n",
              "      L.ASIS_Z    R.PSIS_X   R.PSIS_Y  ...  V_R.TT_KJC_Z  V_L.TT_KJC_X  \\\n",
              "1   -560.16077   315.74045  977.08398  ...           NaN           NaN   \n",
              "2   -561.77612   323.29425  977.64166  ...           NaN           NaN   \n",
              "3   -563.42725   330.56866  978.15283  ...           NaN           NaN   \n",
              "4   -564.85162   337.63867  978.81207  ...           NaN           NaN   \n",
              "5   -566.06659   344.50589  979.21619  ...           NaN           NaN   \n",
              "..         ...         ...        ...  ...           ...           ...   \n",
              "180 -546.90094  1678.10901  977.31805  ...           NaN           NaN   \n",
              "181 -547.97144  1688.67249  977.12646  ...           NaN           NaN   \n",
              "182 -548.99799  1699.17065  977.02045  ...           NaN           NaN   \n",
              "183 -550.08704  1709.65186  976.93237  ...           NaN           NaN   \n",
              "184 -551.26306  1720.05396  976.89636  ...           NaN           NaN   \n",
              "\n",
              "     V_L.TT_KJC_Y  V_L.TT_KJC_Z  V_R.MT2_X  V_R.MT2_Y  V_R.MT2_Z  V_L.MT2_X  \\\n",
              "1             NaN           NaN        NaN        NaN        NaN        NaN   \n",
              "2             NaN           NaN        NaN        NaN        NaN        NaN   \n",
              "3             NaN           NaN        NaN        NaN        NaN        NaN   \n",
              "4             NaN           NaN        NaN        NaN        NaN        NaN   \n",
              "5             NaN           NaN        NaN        NaN        NaN        NaN   \n",
              "..            ...           ...        ...        ...        ...        ...   \n",
              "180           NaN           NaN        NaN        NaN        NaN        NaN   \n",
              "181           NaN           NaN        NaN        NaN        NaN        NaN   \n",
              "182           NaN           NaN        NaN        NaN        NaN        NaN   \n",
              "183           NaN           NaN        NaN        NaN        NaN        NaN   \n",
              "184           NaN           NaN        NaN        NaN        NaN        NaN   \n",
              "\n",
              "     V_L.MT2_Y  V_L.MT2_Z  \n",
              "1          NaN        NaN  \n",
              "2          NaN        NaN  \n",
              "3          NaN        NaN  \n",
              "4          NaN        NaN  \n",
              "5          NaN        NaN  \n",
              "..         ...        ...  \n",
              "180        NaN        NaN  \n",
              "181        NaN        NaN  \n",
              "182        NaN        NaN  \n",
              "183        NaN        NaN  \n",
              "184        NaN        NaN  \n",
              "\n",
              "[184 rows x 167 columns]"
            ],
            "text/html": [
              "\n",
              "  <div id=\"df-df334493-8e55-436c-aeac-5355812d3de4\">\n",
              "    <div class=\"colab-df-container\">\n",
              "      <div>\n",
              "<style scoped>\n",
              "    .dataframe tbody tr th:only-of-type {\n",
              "        vertical-align: middle;\n",
              "    }\n",
              "\n",
              "    .dataframe tbody tr th {\n",
              "        vertical-align: top;\n",
              "    }\n",
              "\n",
              "    .dataframe thead th {\n",
              "        text-align: right;\n",
              "    }\n",
              "</style>\n",
              "<table border=\"1\" class=\"dataframe\">\n",
              "  <thead>\n",
              "    <tr style=\"text-align: right;\">\n",
              "      <th></th>\n",
              "      <th>Frame#</th>\n",
              "      <th>Time</th>\n",
              "      <th>R.ASIS_X</th>\n",
              "      <th>R.ASIS_Y</th>\n",
              "      <th>R.ASIS_Z</th>\n",
              "      <th>L.ASIS_X</th>\n",
              "      <th>L.ASIS_Y</th>\n",
              "      <th>L.ASIS_Z</th>\n",
              "      <th>R.PSIS_X</th>\n",
              "      <th>R.PSIS_Y</th>\n",
              "      <th>...</th>\n",
              "      <th>V_R.TT_KJC_Z</th>\n",
              "      <th>V_L.TT_KJC_X</th>\n",
              "      <th>V_L.TT_KJC_Y</th>\n",
              "      <th>V_L.TT_KJC_Z</th>\n",
              "      <th>V_R.MT2_X</th>\n",
              "      <th>V_R.MT2_Y</th>\n",
              "      <th>V_R.MT2_Z</th>\n",
              "      <th>V_L.MT2_X</th>\n",
              "      <th>V_L.MT2_Y</th>\n",
              "      <th>V_L.MT2_Z</th>\n",
              "    </tr>\n",
              "  </thead>\n",
              "  <tbody>\n",
              "    <tr>\n",
              "      <th>1</th>\n",
              "      <td>1.0</td>\n",
              "      <td>0.000</td>\n",
              "      <td>516.54236</td>\n",
              "      <td>966.88000</td>\n",
              "      <td>-306.10416</td>\n",
              "      <td>531.67438</td>\n",
              "      <td>981.34631</td>\n",
              "      <td>-560.16077</td>\n",
              "      <td>315.74045</td>\n",
              "      <td>977.08398</td>\n",
              "      <td>...</td>\n",
              "      <td>NaN</td>\n",
              "      <td>NaN</td>\n",
              "      <td>NaN</td>\n",
              "      <td>NaN</td>\n",
              "      <td>NaN</td>\n",
              "      <td>NaN</td>\n",
              "      <td>NaN</td>\n",
              "      <td>NaN</td>\n",
              "      <td>NaN</td>\n",
              "      <td>NaN</td>\n",
              "    </tr>\n",
              "    <tr>\n",
              "      <th>2</th>\n",
              "      <td>2.0</td>\n",
              "      <td>0.007</td>\n",
              "      <td>523.92200</td>\n",
              "      <td>967.96594</td>\n",
              "      <td>-308.23773</td>\n",
              "      <td>539.83044</td>\n",
              "      <td>982.78345</td>\n",
              "      <td>-561.77612</td>\n",
              "      <td>323.29425</td>\n",
              "      <td>977.64166</td>\n",
              "      <td>...</td>\n",
              "      <td>NaN</td>\n",
              "      <td>NaN</td>\n",
              "      <td>NaN</td>\n",
              "      <td>NaN</td>\n",
              "      <td>NaN</td>\n",
              "      <td>NaN</td>\n",
              "      <td>NaN</td>\n",
              "      <td>NaN</td>\n",
              "      <td>NaN</td>\n",
              "      <td>NaN</td>\n",
              "    </tr>\n",
              "    <tr>\n",
              "      <th>3</th>\n",
              "      <td>3.0</td>\n",
              "      <td>0.013</td>\n",
              "      <td>531.20807</td>\n",
              "      <td>968.92493</td>\n",
              "      <td>-310.12112</td>\n",
              "      <td>547.60663</td>\n",
              "      <td>984.00653</td>\n",
              "      <td>-563.42725</td>\n",
              "      <td>330.56866</td>\n",
              "      <td>978.15283</td>\n",
              "      <td>...</td>\n",
              "      <td>NaN</td>\n",
              "      <td>NaN</td>\n",
              "      <td>NaN</td>\n",
              "      <td>NaN</td>\n",
              "      <td>NaN</td>\n",
              "      <td>NaN</td>\n",
              "      <td>NaN</td>\n",
              "      <td>NaN</td>\n",
              "      <td>NaN</td>\n",
              "      <td>NaN</td>\n",
              "    </tr>\n",
              "    <tr>\n",
              "      <th>4</th>\n",
              "      <td>4.0</td>\n",
              "      <td>0.020</td>\n",
              "      <td>538.24219</td>\n",
              "      <td>969.77612</td>\n",
              "      <td>-311.72064</td>\n",
              "      <td>555.40649</td>\n",
              "      <td>985.09637</td>\n",
              "      <td>-564.85162</td>\n",
              "      <td>337.63867</td>\n",
              "      <td>978.81207</td>\n",
              "      <td>...</td>\n",
              "      <td>NaN</td>\n",
              "      <td>NaN</td>\n",
              "      <td>NaN</td>\n",
              "      <td>NaN</td>\n",
              "      <td>NaN</td>\n",
              "      <td>NaN</td>\n",
              "      <td>NaN</td>\n",
              "      <td>NaN</td>\n",
              "      <td>NaN</td>\n",
              "      <td>NaN</td>\n",
              "    </tr>\n",
              "    <tr>\n",
              "      <th>5</th>\n",
              "      <td>5.0</td>\n",
              "      <td>0.027</td>\n",
              "      <td>545.11420</td>\n",
              "      <td>970.81128</td>\n",
              "      <td>-313.07266</td>\n",
              "      <td>563.14301</td>\n",
              "      <td>986.00916</td>\n",
              "      <td>-566.06659</td>\n",
              "      <td>344.50589</td>\n",
              "      <td>979.21619</td>\n",
              "      <td>...</td>\n",
              "      <td>NaN</td>\n",
              "      <td>NaN</td>\n",
              "      <td>NaN</td>\n",
              "      <td>NaN</td>\n",
              "      <td>NaN</td>\n",
              "      <td>NaN</td>\n",
              "      <td>NaN</td>\n",
              "      <td>NaN</td>\n",
              "      <td>NaN</td>\n",
              "      <td>NaN</td>\n",
              "    </tr>\n",
              "    <tr>\n",
              "      <th>...</th>\n",
              "      <td>...</td>\n",
              "      <td>...</td>\n",
              "      <td>...</td>\n",
              "      <td>...</td>\n",
              "      <td>...</td>\n",
              "      <td>...</td>\n",
              "      <td>...</td>\n",
              "      <td>...</td>\n",
              "      <td>...</td>\n",
              "      <td>...</td>\n",
              "      <td>...</td>\n",
              "      <td>...</td>\n",
              "      <td>...</td>\n",
              "      <td>...</td>\n",
              "      <td>...</td>\n",
              "      <td>...</td>\n",
              "      <td>...</td>\n",
              "      <td>...</td>\n",
              "      <td>...</td>\n",
              "      <td>...</td>\n",
              "      <td>...</td>\n",
              "    </tr>\n",
              "    <tr>\n",
              "      <th>180</th>\n",
              "      <td>180.0</td>\n",
              "      <td>1.193</td>\n",
              "      <td>1875.04834</td>\n",
              "      <td>958.35535</td>\n",
              "      <td>-290.67004</td>\n",
              "      <td>1897.06970</td>\n",
              "      <td>960.27222</td>\n",
              "      <td>-546.90094</td>\n",
              "      <td>1678.10901</td>\n",
              "      <td>977.31805</td>\n",
              "      <td>...</td>\n",
              "      <td>NaN</td>\n",
              "      <td>NaN</td>\n",
              "      <td>NaN</td>\n",
              "      <td>NaN</td>\n",
              "      <td>NaN</td>\n",
              "      <td>NaN</td>\n",
              "      <td>NaN</td>\n",
              "      <td>NaN</td>\n",
              "      <td>NaN</td>\n",
              "      <td>NaN</td>\n",
              "    </tr>\n",
              "    <tr>\n",
              "      <th>181</th>\n",
              "      <td>181.0</td>\n",
              "      <td>1.200</td>\n",
              "      <td>1885.37988</td>\n",
              "      <td>958.09222</td>\n",
              "      <td>-291.67429</td>\n",
              "      <td>1907.52881</td>\n",
              "      <td>960.81549</td>\n",
              "      <td>-547.97144</td>\n",
              "      <td>1688.67249</td>\n",
              "      <td>977.12646</td>\n",
              "      <td>...</td>\n",
              "      <td>NaN</td>\n",
              "      <td>NaN</td>\n",
              "      <td>NaN</td>\n",
              "      <td>NaN</td>\n",
              "      <td>NaN</td>\n",
              "      <td>NaN</td>\n",
              "      <td>NaN</td>\n",
              "      <td>NaN</td>\n",
              "      <td>NaN</td>\n",
              "      <td>NaN</td>\n",
              "    </tr>\n",
              "    <tr>\n",
              "      <th>182</th>\n",
              "      <td>182.0</td>\n",
              "      <td>1.207</td>\n",
              "      <td>1895.50452</td>\n",
              "      <td>957.80798</td>\n",
              "      <td>-292.71875</td>\n",
              "      <td>1917.97290</td>\n",
              "      <td>961.49707</td>\n",
              "      <td>-548.99799</td>\n",
              "      <td>1699.17065</td>\n",
              "      <td>977.02045</td>\n",
              "      <td>...</td>\n",
              "      <td>NaN</td>\n",
              "      <td>NaN</td>\n",
              "      <td>NaN</td>\n",
              "      <td>NaN</td>\n",
              "      <td>NaN</td>\n",
              "      <td>NaN</td>\n",
              "      <td>NaN</td>\n",
              "      <td>NaN</td>\n",
              "      <td>NaN</td>\n",
              "      <td>NaN</td>\n",
              "    </tr>\n",
              "    <tr>\n",
              "      <th>183</th>\n",
              "      <td>183.0</td>\n",
              "      <td>1.213</td>\n",
              "      <td>1905.40540</td>\n",
              "      <td>957.61029</td>\n",
              "      <td>-293.84250</td>\n",
              "      <td>1928.34631</td>\n",
              "      <td>962.31494</td>\n",
              "      <td>-550.08704</td>\n",
              "      <td>1709.65186</td>\n",
              "      <td>976.93237</td>\n",
              "      <td>...</td>\n",
              "      <td>NaN</td>\n",
              "      <td>NaN</td>\n",
              "      <td>NaN</td>\n",
              "      <td>NaN</td>\n",
              "      <td>NaN</td>\n",
              "      <td>NaN</td>\n",
              "      <td>NaN</td>\n",
              "      <td>NaN</td>\n",
              "      <td>NaN</td>\n",
              "      <td>NaN</td>\n",
              "    </tr>\n",
              "    <tr>\n",
              "      <th>184</th>\n",
              "      <td>184.0</td>\n",
              "      <td>1.220</td>\n",
              "      <td>1916.91516</td>\n",
              "      <td>958.57813</td>\n",
              "      <td>-294.85443</td>\n",
              "      <td>1938.59363</td>\n",
              "      <td>963.29272</td>\n",
              "      <td>-551.26306</td>\n",
              "      <td>1720.05396</td>\n",
              "      <td>976.89636</td>\n",
              "      <td>...</td>\n",
              "      <td>NaN</td>\n",
              "      <td>NaN</td>\n",
              "      <td>NaN</td>\n",
              "      <td>NaN</td>\n",
              "      <td>NaN</td>\n",
              "      <td>NaN</td>\n",
              "      <td>NaN</td>\n",
              "      <td>NaN</td>\n",
              "      <td>NaN</td>\n",
              "      <td>NaN</td>\n",
              "    </tr>\n",
              "  </tbody>\n",
              "</table>\n",
              "<p>184 rows × 167 columns</p>\n",
              "</div>\n",
              "      <button class=\"colab-df-convert\" onclick=\"convertToInteractive('df-df334493-8e55-436c-aeac-5355812d3de4')\"\n",
              "              title=\"Convert this dataframe to an interactive table.\"\n",
              "              style=\"display:none;\">\n",
              "        \n",
              "  <svg xmlns=\"http://www.w3.org/2000/svg\" height=\"24px\"viewBox=\"0 0 24 24\"\n",
              "       width=\"24px\">\n",
              "    <path d=\"M0 0h24v24H0V0z\" fill=\"none\"/>\n",
              "    <path d=\"M18.56 5.44l.94 2.06.94-2.06 2.06-.94-2.06-.94-.94-2.06-.94 2.06-2.06.94zm-11 1L8.5 8.5l.94-2.06 2.06-.94-2.06-.94L8.5 2.5l-.94 2.06-2.06.94zm10 10l.94 2.06.94-2.06 2.06-.94-2.06-.94-.94-2.06-.94 2.06-2.06.94z\"/><path d=\"M17.41 7.96l-1.37-1.37c-.4-.4-.92-.59-1.43-.59-.52 0-1.04.2-1.43.59L10.3 9.45l-7.72 7.72c-.78.78-.78 2.05 0 2.83L4 21.41c.39.39.9.59 1.41.59.51 0 1.02-.2 1.41-.59l7.78-7.78 2.81-2.81c.8-.78.8-2.07 0-2.86zM5.41 20L4 18.59l7.72-7.72 1.47 1.35L5.41 20z\"/>\n",
              "  </svg>\n",
              "      </button>\n",
              "      \n",
              "  <style>\n",
              "    .colab-df-container {\n",
              "      display:flex;\n",
              "      flex-wrap:wrap;\n",
              "      gap: 12px;\n",
              "    }\n",
              "\n",
              "    .colab-df-convert {\n",
              "      background-color: #E8F0FE;\n",
              "      border: none;\n",
              "      border-radius: 50%;\n",
              "      cursor: pointer;\n",
              "      display: none;\n",
              "      fill: #1967D2;\n",
              "      height: 32px;\n",
              "      padding: 0 0 0 0;\n",
              "      width: 32px;\n",
              "    }\n",
              "\n",
              "    .colab-df-convert:hover {\n",
              "      background-color: #E2EBFA;\n",
              "      box-shadow: 0px 1px 2px rgba(60, 64, 67, 0.3), 0px 1px 3px 1px rgba(60, 64, 67, 0.15);\n",
              "      fill: #174EA6;\n",
              "    }\n",
              "\n",
              "    [theme=dark] .colab-df-convert {\n",
              "      background-color: #3B4455;\n",
              "      fill: #D2E3FC;\n",
              "    }\n",
              "\n",
              "    [theme=dark] .colab-df-convert:hover {\n",
              "      background-color: #434B5C;\n",
              "      box-shadow: 0px 1px 3px 1px rgba(0, 0, 0, 0.15);\n",
              "      filter: drop-shadow(0px 1px 2px rgba(0, 0, 0, 0.3));\n",
              "      fill: #FFFFFF;\n",
              "    }\n",
              "  </style>\n",
              "\n",
              "      <script>\n",
              "        const buttonEl =\n",
              "          document.querySelector('#df-df334493-8e55-436c-aeac-5355812d3de4 button.colab-df-convert');\n",
              "        buttonEl.style.display =\n",
              "          google.colab.kernel.accessAllowed ? 'block' : 'none';\n",
              "\n",
              "        async function convertToInteractive(key) {\n",
              "          const element = document.querySelector('#df-df334493-8e55-436c-aeac-5355812d3de4');\n",
              "          const dataTable =\n",
              "            await google.colab.kernel.invokeFunction('convertToInteractive',\n",
              "                                                     [key], {});\n",
              "          if (!dataTable) return;\n",
              "\n",
              "          const docLinkHtml = 'Like what you see? Visit the ' +\n",
              "            '<a target=\"_blank\" href=https://colab.research.google.com/notebooks/data_table.ipynb>data table notebook</a>'\n",
              "            + ' to learn more about interactive tables.';\n",
              "          element.innerHTML = '';\n",
              "          dataTable['output_type'] = 'display_data';\n",
              "          await google.colab.output.renderOutput(dataTable, element);\n",
              "          const docLink = document.createElement('div');\n",
              "          docLink.innerHTML = docLinkHtml;\n",
              "          element.appendChild(docLink);\n",
              "        }\n",
              "      </script>\n",
              "    </div>\n",
              "  </div>\n",
              "  "
            ]
          },
          "metadata": {},
          "execution_count": 135
        }
      ]
    },
    {
      "cell_type": "markdown",
      "source": [
        "# **Ordem de rotação: XYZ**\n",
        "**Considerando que a primeira rotação seja em torno do plano sagital, a segunda rotação em torno do plano transversal e a terceira rotação seja em torno do plano frontal, e como a pessoa está andando em direção ao eixo Z, pode-se concluir que a ordem de rotação será primeiro em torno de X, depois em Y e por fim em Z, assim como na imagem abaixo.**"
      ],
      "metadata": {
        "id": "IMlNtLJkuizg"
      }
    },
    {
      "cell_type": "code",
      "source": [
        "from IPython.display import Image\n",
        "Image(data='https://raw.githubusercontent.com/BiancaCordeiro/biomec/main/Anatomical%20coordinate%20systems.png', width= 300)"
      ],
      "metadata": {
        "colab": {
          "base_uri": "https://localhost:8080/",
          "height": 437
        },
        "id": "N6RVCOJ_8-yV",
        "outputId": "a8125716-4529-4cfd-b4bb-6ad86ae3a24b"
      },
      "execution_count": null,
      "outputs": [
        {
          "output_type": "execute_result",
          "data": {
            "image/png": "[encoded data removed]",
            "text/plain": [
              "<IPython.core.display.Image object>"
            ]
          },
          "metadata": {
            "image/png": {
              "width": 300
            }
          },
          "execution_count": 136
        }
      ]
    },
    {
      "cell_type": "markdown",
      "source": [
        "# **Abaixo encontra-se a matriz resultante da sequencia de rotação ZYX**"
      ],
      "metadata": {
        "id": "6DY9n4rTzcLG"
      }
    },
    {
      "cell_type": "code",
      "source": [
        "cos, sin = sym.cos, sym.sin\n",
        "\n",
        "a, b, g = sym.symbols('alpha, beta, gamma')\n",
        "\n",
        "# Matrizes elementares de rotação em torno do eixo X, Y e Z, respectivamente:\n",
        "RX = sym.Matrix([[1,      0,       0],\n",
        "                 [0, cos(a), -sin(a)],\n",
        "                 [0, sin(a), cos(a)]])\n",
        "\n",
        "RY = sym.Matrix([[cos(b), 0,  sin(b)],\n",
        "                 [0,       1,       0],\n",
        "                 [-sin(b), 0,  cos(b)]])\n",
        "\n",
        "RZ = sym.Matrix([[cos(g), -sin(g), 0],\n",
        "                 [sin(g),  cos(g), 0],\n",
        "                 [     0,       0, 1]])\n",
        "\n",
        "# Multiplicação matricial seguindo a ordem de rotação definida (ZYX):\n",
        "RZYX = RZ @ RY @ RX\n",
        "RZYX"
      ],
      "metadata": {
        "colab": {
          "base_uri": "https://localhost:8080/",
          "height": 78
        },
        "id": "Zfwxk2S7SIHJ",
        "outputId": "29931db5-b0a4-45b7-ead5-b2c7c2dd61e0"
      },
      "execution_count": null,
      "outputs": [
        {
          "output_type": "execute_result",
          "data": {
            "text/plain": [
              "Matrix([\n",
              "[cos(beta)*cos(gamma), sin(alpha)*sin(beta)*cos(gamma) - sin(gamma)*cos(alpha),  sin(alpha)*sin(gamma) + sin(beta)*cos(alpha)*cos(gamma)],\n",
              "[sin(gamma)*cos(beta), sin(alpha)*sin(beta)*sin(gamma) + cos(alpha)*cos(gamma), -sin(alpha)*cos(gamma) + sin(beta)*sin(gamma)*cos(alpha)],\n",
              "[          -sin(beta),                                    sin(alpha)*cos(beta),                                     cos(alpha)*cos(beta)]])"
            ],
            "text/latex": "$\\displaystyle \\left[\\begin{matrix}\\cos{\\left(\\beta \\right)} \\cos{\\left(\\gamma \\right)} & \\sin{\\left(\\alpha \\right)} \\sin{\\left(\\beta \\right)} \\cos{\\left(\\gamma \\right)} - \\sin{\\left(\\gamma \\right)} \\cos{\\left(\\alpha \\right)} & \\sin{\\left(\\alpha \\right)} \\sin{\\left(\\gamma \\right)} + \\sin{\\left(\\beta \\right)} \\cos{\\left(\\alpha \\right)} \\cos{\\left(\\gamma \\right)}\\\\\\sin{\\left(\\gamma \\right)} \\cos{\\left(\\beta \\right)} & \\sin{\\left(\\alpha \\right)} \\sin{\\left(\\beta \\right)} \\sin{\\left(\\gamma \\right)} + \\cos{\\left(\\alpha \\right)} \\cos{\\left(\\gamma \\right)} & - \\sin{\\left(\\alpha \\right)} \\cos{\\left(\\gamma \\right)} + \\sin{\\left(\\beta \\right)} \\sin{\\left(\\gamma \\right)} \\cos{\\left(\\alpha \\right)}\\\\- \\sin{\\left(\\beta \\right)} & \\sin{\\left(\\alpha \\right)} \\cos{\\left(\\beta \\right)} & \\cos{\\left(\\alpha \\right)} \\cos{\\left(\\beta \\right)}\\end{matrix}\\right]$"
          },
          "metadata": {},
          "execution_count": 137
        }
      ]
    },
    {
      "cell_type": "markdown",
      "source": [
        "**Para definir os ângulos do quadril, primeiro é necessário definir a base do quadril e a base do femur**"
      ],
      "metadata": {
        "id": "bHSyoGW1ztAg"
      }
    },
    {
      "cell_type": "markdown",
      "source": [
        "# **Base do quadril**"
      ],
      "metadata": {
        "id": "uXR7Igu_9dPT"
      }
    },
    {
      "cell_type": "code",
      "source": [
        "R_ASIS = data[['R.ASIS_X','R.ASIS_Y','R.ASIS_Z']].values/1000\n",
        "R_PSIS =  data[['R.PSIS_X','R.PSIS_Y','R.PSIS_Z']].values/1000\n",
        "v1_hip = R_PSIS - R_ASIS\n",
        "v1_norma_hip = np.linalg.norm(v1_hip, axis=1, keepdims=True)\n",
        "e1_hip = v1_hip/v1_norma_hip"
      ],
      "metadata": {
        "id": "AU1dAUOySI6p"
      },
      "execution_count": null,
      "outputs": []
    },
    {
      "cell_type": "code",
      "source": [
        "np.all(np.isclose(np.linalg.norm(e1_hip, axis=1),1))"
      ],
      "metadata": {
        "colab": {
          "base_uri": "https://localhost:8080/"
        },
        "id": "aGiVq_C7SI4k",
        "outputId": "e36c2885-3915-49db-9e0d-235cde4d833f"
      },
      "execution_count": null,
      "outputs": [
        {
          "output_type": "execute_result",
          "data": {
            "text/plain": [
              "True"
            ]
          },
          "metadata": {},
          "execution_count": 139
        }
      ]
    },
    {
      "cell_type": "code",
      "source": [
        "GT = data[['R.GTR_X','R.GTR_Y','R.GTR_Z']].values/1000\n",
        "v2_hip = GT - R_ASIS\n",
        "v3_hip = np.cross(e1_hip, v2_hip)\n",
        "v3_norma_hip = np.linalg.norm(v3_hip, axis=1, keepdims=True)\n",
        "e3_hip = v3_hip/v3_norma_hip"
      ],
      "metadata": {
        "id": "uZfOxouHSI2I"
      },
      "execution_count": null,
      "outputs": []
    },
    {
      "cell_type": "code",
      "source": [
        "np.all(np.isclose(np.linalg.norm(e3_hip, axis=1), 1))"
      ],
      "metadata": {
        "colab": {
          "base_uri": "https://localhost:8080/"
        },
        "id": "CimRx3ciSIe-",
        "outputId": "baa08451-feef-4535-9b80-3fdb960b9ec0"
      },
      "execution_count": null,
      "outputs": [
        {
          "output_type": "execute_result",
          "data": {
            "text/plain": [
              "True"
            ]
          },
          "metadata": {},
          "execution_count": 141
        }
      ]
    },
    {
      "cell_type": "code",
      "source": [
        "e2_hip = np.cross(e3_hip, e1_hip)"
      ],
      "metadata": {
        "id": "vlLzrOMYSIwC"
      },
      "execution_count": null,
      "outputs": []
    },
    {
      "cell_type": "code",
      "source": [
        "np.all(np.isclose(np.linalg.norm(e2_hip, axis=1),1))"
      ],
      "metadata": {
        "colab": {
          "base_uri": "https://localhost:8080/"
        },
        "id": "ySZRHKyVSIYm",
        "outputId": "f3d51d34-e178-4440-a9a7-2c7bb87c18ec"
      },
      "execution_count": null,
      "outputs": [
        {
          "output_type": "execute_result",
          "data": {
            "text/plain": [
              "True"
            ]
          },
          "metadata": {},
          "execution_count": 143
        }
      ]
    },
    {
      "cell_type": "code",
      "source": [
        "def produto_escalar(x,y):\n",
        "  return np.sum(x*y, axis=1)"
      ],
      "metadata": {
        "id": "zDgSrWLpSIUu"
      },
      "execution_count": null,
      "outputs": []
    },
    {
      "cell_type": "code",
      "source": [
        "np.all(np.isclose(produto_escalar(e1_hip, e2_hip),0))"
      ],
      "metadata": {
        "colab": {
          "base_uri": "https://localhost:8080/"
        },
        "id": "zgZVw_ZgSISI",
        "outputId": "6a0ab92d-e366-47f5-c844-d5b1d84e80b2"
      },
      "execution_count": null,
      "outputs": [
        {
          "output_type": "execute_result",
          "data": {
            "text/plain": [
              "True"
            ]
          },
          "metadata": {},
          "execution_count": 145
        }
      ]
    },
    {
      "cell_type": "code",
      "source": [
        "np.all(np.isclose(produto_escalar(e1_hip, e3_hip),0))"
      ],
      "metadata": {
        "colab": {
          "base_uri": "https://localhost:8080/"
        },
        "id": "lTQ9A661SIPJ",
        "outputId": "7899f976-60ac-4bb0-ff69-daaffdb73f8d"
      },
      "execution_count": null,
      "outputs": [
        {
          "output_type": "execute_result",
          "data": {
            "text/plain": [
              "True"
            ]
          },
          "metadata": {},
          "execution_count": 146
        }
      ]
    },
    {
      "cell_type": "code",
      "source": [
        "np.all(np.isclose(produto_escalar(e2_hip, e3_hip), 0))"
      ],
      "metadata": {
        "colab": {
          "base_uri": "https://localhost:8080/"
        },
        "id": "-3RUaVcDSIKW",
        "outputId": "c0196768-fa37-4e71-edec-e803672f7521"
      },
      "execution_count": null,
      "outputs": [
        {
          "output_type": "execute_result",
          "data": {
            "text/plain": [
              "True"
            ]
          },
          "metadata": {},
          "execution_count": 147
        }
      ]
    },
    {
      "cell_type": "markdown",
      "source": [
        "# Base do femur"
      ],
      "metadata": {
        "id": "PLg2nn_49iXZ"
      }
    },
    {
      "cell_type": "code",
      "source": [
        "R_Knee = data[['R.Knee_X','R.Knee_Y','R.Knee_Z']].values/1000\n",
        "R_Knee_Medial = data[['R.Knee.Medial_X','R.Knee.Medial_Y','R.Knee.Medial_Z']].values/1000\n",
        "v1_femur = R_Knee_Medial - R_Knee\n",
        "v1_norma_femur = np.linalg.norm(v1_femur, axis=1, keepdims=True)\n",
        "e1_femur = v1_femur/v1_norma_femur"
      ],
      "metadata": {
        "id": "OG3A0KJn9kAw"
      },
      "execution_count": null,
      "outputs": []
    },
    {
      "cell_type": "code",
      "source": [
        "np.all(np.isclose(np.linalg.norm(e1_femur, axis=1),1))"
      ],
      "metadata": {
        "colab": {
          "base_uri": "https://localhost:8080/"
        },
        "id": "_2ZuCyw69j-v",
        "outputId": "484e81a1-655e-44df-b1f1-d52f4ec9686b"
      },
      "execution_count": null,
      "outputs": [
        {
          "output_type": "execute_result",
          "data": {
            "text/plain": [
              "True"
            ]
          },
          "metadata": {},
          "execution_count": 149
        }
      ]
    },
    {
      "cell_type": "code",
      "source": [
        "v2_femur = GT - R_Knee\n",
        "v3_femur = np.cross(e1_femur, v2_femur)\n",
        "v3_norma_femur = np.linalg.norm(v3_femur, axis=1, keepdims=True)\n",
        "e3_femur = v3_femur/v3_norma_femur"
      ],
      "metadata": {
        "id": "_MYCsIT39j89"
      },
      "execution_count": null,
      "outputs": []
    },
    {
      "cell_type": "code",
      "source": [
        "np.all(np.isclose(np.linalg.norm(e3_femur, axis=1), 1))"
      ],
      "metadata": {
        "colab": {
          "base_uri": "https://localhost:8080/"
        },
        "id": "biaTpaaB9j6P",
        "outputId": "cc21f972-e5c1-4195-e88e-a7713658e214"
      },
      "execution_count": null,
      "outputs": [
        {
          "output_type": "execute_result",
          "data": {
            "text/plain": [
              "True"
            ]
          },
          "metadata": {},
          "execution_count": 151
        }
      ]
    },
    {
      "cell_type": "code",
      "source": [
        "e2_femur = np.cross(e3_femur, e1_femur)"
      ],
      "metadata": {
        "id": "33aCYctM9j2V"
      },
      "execution_count": null,
      "outputs": []
    },
    {
      "cell_type": "code",
      "source": [
        "np.all(np.isclose(np.linalg.norm(e2_femur, axis=1),1))"
      ],
      "metadata": {
        "colab": {
          "base_uri": "https://localhost:8080/"
        },
        "id": "Uy0x_8VO9j0G",
        "outputId": "adf67d8d-af7a-4f5e-8a54-afa87b1428b3"
      },
      "execution_count": null,
      "outputs": [
        {
          "output_type": "execute_result",
          "data": {
            "text/plain": [
              "True"
            ]
          },
          "metadata": {},
          "execution_count": 153
        }
      ]
    },
    {
      "cell_type": "code",
      "source": [
        "np.all(np.isclose(produto_escalar(e1_femur, e2_femur),0))"
      ],
      "metadata": {
        "colab": {
          "base_uri": "https://localhost:8080/"
        },
        "id": "gD69RP799jxv",
        "outputId": "4231cc96-bd7f-4859-8d2f-da3f28a5ce83"
      },
      "execution_count": null,
      "outputs": [
        {
          "output_type": "execute_result",
          "data": {
            "text/plain": [
              "True"
            ]
          },
          "metadata": {},
          "execution_count": 154
        }
      ]
    },
    {
      "cell_type": "code",
      "source": [
        "np.all(np.isclose(produto_escalar(e1_femur, e3_femur),0))"
      ],
      "metadata": {
        "colab": {
          "base_uri": "https://localhost:8080/"
        },
        "id": "pMRlqVzZ9jvN",
        "outputId": "3530c210-31e7-4663-8ea9-4e04d92a0969"
      },
      "execution_count": null,
      "outputs": [
        {
          "output_type": "execute_result",
          "data": {
            "text/plain": [
              "True"
            ]
          },
          "metadata": {},
          "execution_count": 155
        }
      ]
    },
    {
      "cell_type": "code",
      "source": [
        "np.all(np.isclose(produto_escalar(e2_femur, e3_femur), 0))"
      ],
      "metadata": {
        "colab": {
          "base_uri": "https://localhost:8080/"
        },
        "id": "XtQG1iqk9jpq",
        "outputId": "a0c18321-7422-413a-f246-a6b1253f532c"
      },
      "execution_count": null,
      "outputs": [
        {
          "output_type": "execute_result",
          "data": {
            "text/plain": [
              "True"
            ]
          },
          "metadata": {},
          "execution_count": 156
        }
      ]
    },
    {
      "cell_type": "markdown",
      "source": [
        "# **Ângulos de Euler**"
      ],
      "metadata": {
        "id": "uDSAzwKcShgt"
      }
    },
    {
      "cell_type": "markdown",
      "source": [
        "$\\alpha = \\arctan\\left(\\frac{R_{21}}{R_{22}} \\right)$\n",
        "\n",
        "$\\beta = \\arctan\\left(\\frac{-R_{20}}{\\sqrt{R_{10}^2+R_{00}^2}}\\right)$\n",
        "\n",
        "$\\gamma = \\arctan\\left(\\frac{R_{10}}{R_{00}}{} \\right)$"
      ],
      "metadata": {
        "id": "Uhh5ZAjjICEH"
      }
    },
    {
      "cell_type": "code",
      "source": [
        "alpha = np.zeros(len(e1_hip))\n",
        "beta = np.zeros(len(e1_hip))\n",
        "gamma = np.zeros(len(e1_hip))\n",
        "\n",
        "for i in range(len(e1_hip)):\n",
        "  R_hip = np.stack((e1_hip[i], e2_hip[i], e3_hip[i])).T\n",
        "  R_femur =  np.stack((e1_femur[i], e2_femur[i], e3_femur[i])).T\n",
        "  R_femur_hip = R_femur.T@R_hip\n",
        "  \n",
        "  alpha[i] = np.rad2deg(np.arctan2(R_femur_hip[2,1],R_femur_hip[2,2]))\n",
        "  beta[i] = np.rad2deg(np.arctan2(-R_femur_hip[2,0], np.sqrt(R_femur_hip[1,0]**2+R_femur_hip[0,0]**2)))\n",
        "  gamma[i] = np.rad2deg(np.arctan2(R_femur_hip[1,0],R_femur_hip[0,0]))\n",
        "\n",
        "print('As médias dos ângulos de Euler obtidos sâo:')\n",
        "print('\\u03B1 =',\"{:.3f}\".format(np.mean(alpha)),'\\u00B0')\n",
        "print('\\u03B2 =',\"{:.3f}\".format(np.mean(beta)),'\\u00B0')\n",
        "print('\\u03B3 =',\"{:.3f}\".format(np.mean(gamma)),'\\u00B0')"
      ],
      "metadata": {
        "id": "K2bkcVXoSIEN",
        "colab": {
          "base_uri": "https://localhost:8080/"
        },
        "outputId": "014c727a-a183-4353-97a7-2dee04eb62c1"
      },
      "execution_count": null,
      "outputs": [
        {
          "output_type": "stream",
          "name": "stdout",
          "text": [
            "As médias dos ângulos de Euler obtidos sâo:\n",
            "α = -70.463 °\n",
            "β = 74.388 °\n",
            "γ = 31.504 °\n"
          ]
        }
      ]
    },
    {
      "cell_type": "markdown",
      "source": [
        "# **Gráfico de alfa**"
      ],
      "metadata": {
        "id": "kNHlXGUnSRs4"
      }
    },
    {
      "cell_type": "code",
      "source": [
        "plt.plot(data['Time'], alpha, 'm', label= '\\u03B1')\n",
        "plt.legend()"
      ],
      "metadata": {
        "colab": {
          "base_uri": "https://localhost:8080/",
          "height": 500
        },
        "id": "5WYDaLwLSIBX",
        "outputId": "8179eb44-28a0-4dd7-c758-02b81ca28581"
      },
      "execution_count": null,
      "outputs": [
        {
          "output_type": "execute_result",
          "data": {
            "text/plain": [
              "<matplotlib.legend.Legend at 0x7f6da56f9070>"
            ]
          },
          "metadata": {},
          "execution_count": 158
        },
        {
          "output_type": "display_data",
          "data": {
            "text/plain": [
              "<Figure size 576x576 with 1 Axes>"
            ],
            "image/png": "[encoded data removed]"
          },
          "metadata": {
            "needs_background": "light"
          }
        }
      ]
    },
    {
      "cell_type": "markdown",
      "source": [
        "# **Gráfico de beta**"
      ],
      "metadata": {
        "id": "XsFzCWRmSX1F"
      }
    },
    {
      "cell_type": "code",
      "source": [
        "plt.plot(data['Time'], beta, 'r', label= '\\u03B2')\n",
        "plt.legend()"
      ],
      "metadata": {
        "id": "wa4ugVOTSH7v",
        "colab": {
          "base_uri": "https://localhost:8080/",
          "height": 500
        },
        "outputId": "47933cc5-4c48-4a4e-c576-94894e566816"
      },
      "execution_count": null,
      "outputs": [
        {
          "output_type": "execute_result",
          "data": {
            "text/plain": [
              "<matplotlib.legend.Legend at 0x7f6da56cdf40>"
            ]
          },
          "metadata": {},
          "execution_count": 159
        },
        {
          "output_type": "display_data",
          "data": {
            "text/plain": [
              "<Figure size 576x576 with 1 Axes>"
            ],
            "image/png": "[encoded data removed]"
          },
          "metadata": {
            "needs_background": "light"
          }
        }
      ]
    },
    {
      "cell_type": "markdown",
      "source": [
        "# **Gráfico de gama**"
      ],
      "metadata": {
        "id": "hz0Ap8ZZSa5c"
      }
    },
    {
      "cell_type": "code",
      "source": [
        "plt.plot(data['Time'], gamma, 'b', label= '\\u03B3')\n",
        "plt.legend()"
      ],
      "metadata": {
        "id": "kpJ9EI_LSH4Y",
        "colab": {
          "base_uri": "https://localhost:8080/",
          "height": 500
        },
        "outputId": "1da9de5a-9e39-4c2f-90c0-f796c1479091"
      },
      "execution_count": null,
      "outputs": [
        {
          "output_type": "execute_result",
          "data": {
            "text/plain": [
              "<matplotlib.legend.Legend at 0x7f6da53b0310>"
            ]
          },
          "metadata": {},
          "execution_count": 160
        },
        {
          "output_type": "display_data",
          "data": {
            "text/plain": [
              "<Figure size 576x576 with 1 Axes>"
            ],
            "image/png": "[encoded data removed]"
          },
          "metadata": {
            "needs_background": "light"
          }
        }
      ]
    },
    {
      "cell_type": "markdown",
      "source": [
        "# **Cálculo da velocidade angular**\n",
        "\n",
        "**Deve-se então definir um período de amostragem (dt) para que possa ser calculada a variação angular em função do tempo, o cálculo a ser realizado segue a equação a seguir**"
      ],
      "metadata": {
        "id": "Oj3ewx7LXoIx"
      }
    },
    {
      "cell_type": "markdown",
      "source": [
        "<span class=\"notranslate\">\n",
        " \\begin{equation}\n",
        "    \\vec{\\omega} =  \\left(\\frac{d\\hat{\\boldsymbol{e_2}}}{dt}\\cdot \\hat{\\boldsymbol{e_3}}\\right) \\hat{\\boldsymbol{e_1}} + \\left(\\frac{d\\hat{\\boldsymbol{e_3}}}{dt}\\cdot \\hat{\\boldsymbol{e_1}}\\right) \\hat{\\boldsymbol{e_2}} + \\left(\\frac{d\\hat{\\boldsymbol{e_1}}}{dt}\\cdot \\hat{\\boldsymbol{e_2}}\\right) \\hat{\\boldsymbol{e_3}}\n",
        "\\end{equation}\n",
        "</span>"
      ],
      "metadata": {
        "id": "MDMKB5UzZP28"
      }
    },
    {
      "cell_type": "code",
      "source": [
        "dt = data['Time'].at[2] - data['Time'].at[1]\n",
        "print('dt =',\"{:.3f}\".format(dt),'s')"
      ],
      "metadata": {
        "id": "p3mShWUXSH1j",
        "colab": {
          "base_uri": "https://localhost:8080/"
        },
        "outputId": "0799dcf3-e7b6-4598-ca52-238ebba807f3"
      },
      "execution_count": null,
      "outputs": [
        {
          "output_type": "stream",
          "name": "stdout",
          "text": [
            "dt = 0.007 s\n"
          ]
        }
      ]
    },
    {
      "cell_type": "code",
      "source": [
        "de1_hipdt = np.gradient(e1_hip, dt, axis=0)\n",
        "print('de1_hip/dt=', \"{:.5f}\".format(np.mean(de1_hipdt)))"
      ],
      "metadata": {
        "id": "_nFLWbiqSHsb",
        "colab": {
          "base_uri": "https://localhost:8080/"
        },
        "outputId": "fb83ba3a-8bc5-4cc2-edb6-b8ab06ac70c1"
      },
      "execution_count": null,
      "outputs": [
        {
          "output_type": "stream",
          "name": "stdout",
          "text": [
            "de1_hip/dt= 0.00192\n"
          ]
        }
      ]
    },
    {
      "cell_type": "code",
      "source": [
        "de2_hipdt = np.gradient(e2_hip, dt, axis=0)\n",
        "print('de2_hip/dt=', \"{:.5f}\".format(np.mean(de2_hipdt)))"
      ],
      "metadata": {
        "colab": {
          "base_uri": "https://localhost:8080/"
        },
        "id": "0iMp8NrmVfpc",
        "outputId": "83187772-7d57-49db-c349-1b233c7be03e"
      },
      "execution_count": null,
      "outputs": [
        {
          "output_type": "stream",
          "name": "stdout",
          "text": [
            "de2_hip/dt= -0.01222\n"
          ]
        }
      ]
    },
    {
      "cell_type": "code",
      "source": [
        "de3_hipdt = np.gradient(e3_hip, dt, axis=0)\n",
        "print('de3_hip/dt=', \"{:.5f}\".format(np.mean(de3_hipdt)))"
      ],
      "metadata": {
        "colab": {
          "base_uri": "https://localhost:8080/"
        },
        "id": "j86N8d4OVfnY",
        "outputId": "e2b3bfc4-fc62-4dd3-e8a3-abf625e4753b"
      },
      "execution_count": null,
      "outputs": [
        {
          "output_type": "stream",
          "name": "stdout",
          "text": [
            "de3_hip/dt= -0.00161\n"
          ]
        }
      ]
    },
    {
      "cell_type": "code",
      "source": [
        "omega1_hip = np.sum(de2_hipdt*e3_hip, axis = 1, keepdims=True)\n",
        "print('\\u03C9_1_hip =', \"{:.5f}\".format(np.mean(omega1_hip)), 'm/s') "
      ],
      "metadata": {
        "colab": {
          "base_uri": "https://localhost:8080/"
        },
        "id": "es75GfmhVflA",
        "outputId": "c510be9f-c562-498e-ac88-d69ac41e1503"
      },
      "execution_count": null,
      "outputs": [
        {
          "output_type": "stream",
          "name": "stdout",
          "text": [
            "ω_1_hip = 0.01058 m/s\n"
          ]
        }
      ]
    },
    {
      "cell_type": "code",
      "source": [
        "omega2_hip = np.sum(de3_hipdt*e1_hip, axis = 1, keepdims=True)\n",
        "print('\\u03C9_2_hip =', \"{:.5f}\".format(np.mean(omega2_hip)), 'm/s') "
      ],
      "metadata": {
        "colab": {
          "base_uri": "https://localhost:8080/"
        },
        "id": "1hVYvoXGVfiH",
        "outputId": "a49585c4-0a8d-44e4-9f5f-437bc5527fbd"
      },
      "execution_count": null,
      "outputs": [
        {
          "output_type": "stream",
          "name": "stdout",
          "text": [
            "ω_2_hip = 0.01110 m/s\n"
          ]
        }
      ]
    },
    {
      "cell_type": "code",
      "source": [
        "omega3_hip = np.sum(de1_hipdt*e2_hip, axis = 1, keepdims=True)\n",
        "print('\\u03C9_3_hip =', \"{:.5f}\".format(np.mean(omega3_hip)), 'm/s') "
      ],
      "metadata": {
        "colab": {
          "base_uri": "https://localhost:8080/"
        },
        "id": "ZHEp8zONVfd7",
        "outputId": "c5b9fa0a-7b2c-4bba-ba4c-7f6adb32a919"
      },
      "execution_count": null,
      "outputs": [
        {
          "output_type": "stream",
          "name": "stdout",
          "text": [
            "ω_3_hip = -0.04614 m/s\n"
          ]
        }
      ]
    },
    {
      "cell_type": "code",
      "source": [
        "omega_hip = np.hstack((omega1_hip, omega2_hip, omega3_hip))\n",
        "print('\\u03C9_hip =', \"{:.5f}\".format(np.mean(omega_hip)), 'm/s') "
      ],
      "metadata": {
        "colab": {
          "base_uri": "https://localhost:8080/"
        },
        "id": "6f5UuNrGVfY-",
        "outputId": "dc690e81-bbf0-481d-af37-0d60350eac38"
      },
      "execution_count": null,
      "outputs": [
        {
          "output_type": "stream",
          "name": "stdout",
          "text": [
            "ω_hip = -0.00815 m/s\n"
          ]
        }
      ]
    },
    {
      "cell_type": "markdown",
      "source": [
        "**Portanto a velocidade angular do quadril é ω_hip = -0.00815 m/s**\n"
      ],
      "metadata": {
        "id": "ekHtfR5sZhVX"
      }
    },
    {
      "cell_type": "code",
      "source": [
        "de1_femurdt = np.gradient(e1_femur, dt, axis=0)\n",
        "print('de1_femur/dt=', \"{:.5f}\".format(np.mean(de1_femurdt)))"
      ],
      "metadata": {
        "colab": {
          "base_uri": "https://localhost:8080/"
        },
        "id": "mOkyvNxqcAvf",
        "outputId": "953d1f15-1869-40c7-85d9-2a651870cee9"
      },
      "execution_count": null,
      "outputs": [
        {
          "output_type": "stream",
          "name": "stdout",
          "text": [
            "de1_femur/dt= 0.01795\n"
          ]
        }
      ]
    },
    {
      "cell_type": "code",
      "source": [
        "de2_femurdt = np.gradient(e2_femur, dt, axis=0)\n",
        "print('de2_femur/dt=', \"{:.5f}\".format(np.mean(de2_femurdt)))"
      ],
      "metadata": {
        "colab": {
          "base_uri": "https://localhost:8080/"
        },
        "id": "vPvciJDNcAtb",
        "outputId": "40d26a49-d125-4eeb-b0a7-2a8ebfcb9913"
      },
      "execution_count": null,
      "outputs": [
        {
          "output_type": "stream",
          "name": "stdout",
          "text": [
            "de2_femur/dt= 0.04861\n"
          ]
        }
      ]
    },
    {
      "cell_type": "code",
      "source": [
        "de3_femurdt = np.gradient(e3_femur, dt, axis=0)\n",
        "print('de3_femur/dt=', \"{:.5f}\".format(np.mean(de3_femurdt)))"
      ],
      "metadata": {
        "colab": {
          "base_uri": "https://localhost:8080/"
        },
        "id": "dE4_rICycAqw",
        "outputId": "f186aa70-28cb-4971-876d-6af930013d2d"
      },
      "execution_count": null,
      "outputs": [
        {
          "output_type": "stream",
          "name": "stdout",
          "text": [
            "de3_femur/dt= -0.04298\n"
          ]
        }
      ]
    },
    {
      "cell_type": "code",
      "source": [
        "omega1_femur = np.sum(de2_femurdt*e3_femur, axis = 1, keepdims=True)\n",
        "print('\\u03C9_1_femur =', \"{:.5f}\".format(np.mean(omega1_femur)), 'm/s') "
      ],
      "metadata": {
        "colab": {
          "base_uri": "https://localhost:8080/"
        },
        "outputId": "2a5ece2f-6d96-4b2b-ac91-dd662ed5580d",
        "id": "REZDBSb-bfRV"
      },
      "execution_count": null,
      "outputs": [
        {
          "output_type": "stream",
          "name": "stdout",
          "text": [
            "ω_1_femur = 0.12349 m/s\n"
          ]
        }
      ]
    },
    {
      "cell_type": "code",
      "source": [
        "omega2_femur = np.sum(de3_femurdt*e1_femur, axis = 1, keepdims=True)\n",
        "print('\\u03C9_2_femur =', \"{:.5f}\".format(np.mean(omega2_femur)), 'm/s') "
      ],
      "metadata": {
        "id": "2xetI4WPSHfV",
        "colab": {
          "base_uri": "https://localhost:8080/"
        },
        "outputId": "e07ba1cd-90ee-433e-e34d-d1fd5394a3e6"
      },
      "execution_count": null,
      "outputs": [
        {
          "output_type": "stream",
          "name": "stdout",
          "text": [
            "ω_2_femur = -0.07247 m/s\n"
          ]
        }
      ]
    },
    {
      "cell_type": "code",
      "source": [
        "omega3_femur = np.sum(de1_femurdt*e2_femur, axis = 1, keepdims=True)\n",
        "print('\\u03C9_3_femur =', \"{:.5f}\".format(np.mean(omega3_femur)), 'm/s') "
      ],
      "metadata": {
        "colab": {
          "base_uri": "https://localhost:8080/"
        },
        "id": "AVZo38gmblMH",
        "outputId": "bf0f9178-7e4c-4eb7-9d19-e695cf7fd7a4"
      },
      "execution_count": null,
      "outputs": [
        {
          "output_type": "stream",
          "name": "stdout",
          "text": [
            "ω_3_femur = 0.16000 m/s\n"
          ]
        }
      ]
    },
    {
      "cell_type": "code",
      "source": [
        "omega_femur = np.hstack((omega1_hip, omega2_hip, omega3_hip))\n",
        "print('\\u03C9_femur =', \"{:.5f}\".format(np.mean(omega_femur)), 'm/s') "
      ],
      "metadata": {
        "colab": {
          "base_uri": "https://localhost:8080/"
        },
        "id": "GCuLAUt9blGf",
        "outputId": "f6d8ef14-2664-4632-f963-2360a01d8f45"
      },
      "execution_count": null,
      "outputs": [
        {
          "output_type": "stream",
          "name": "stdout",
          "text": [
            "ω_femur = -0.00815 m/s\n"
          ]
        }
      ]
    },
    {
      "cell_type": "markdown",
      "source": [
        "**Como esperado a velocidade angular do femur deu a mesma que a do quadril por fazerem parte da mesma ligação (ω = -0.00815 m/s)**"
      ],
      "metadata": {
        "id": "AlBKecVTcm_N"
      }
    },
    {
      "cell_type": "markdown",
      "source": [
        "2. [1 ponto] Com o mesmo arquivo do problema anterior, faça agora uma análise bidimensional e determine somente o ângulo da articulação do quadril direito no plano sagital (flexão/extensão). Plote este ângulo e compare com o obtido anterioremente.  \n",
        "Dica: para tanto, utilize somente as duas coordenadas relevantes neese caso das três coordenadas de cada marca que você escolher."
      ],
      "metadata": {
        "id": "yE9xxKtFSYtx"
      }
    },
    {
      "cell_type": "code",
      "source": [
        "R_ASIS = data[['R.ASIS_Y','R.ASIS_Z']].values/1000\n",
        "GT = data[['R.GTR_Y','R.GTR_Z']].values/1000\n",
        "v1_hip_2D = GT - R_ASIS\n",
        "v1norm_hip_2D = np.linalg.norm(v1_hip_2D, axis=1, keepdims=True)\n",
        "\n",
        "e1_hip_2D = v1_hip_2D/v1norm_hip_2D"
      ],
      "metadata": {
        "id": "NWDNHHtUij9w"
      },
      "execution_count": null,
      "outputs": []
    },
    {
      "cell_type": "code",
      "source": [
        "np.all(np.isclose(np.linalg.norm(e1_hip_2D, axis=1),1))"
      ],
      "metadata": {
        "colab": {
          "base_uri": "https://localhost:8080/"
        },
        "id": "22RrAh98qQro",
        "outputId": "2152a536-6ce1-4406-e196-ee3fee3c3d15"
      },
      "execution_count": null,
      "outputs": [
        {
          "output_type": "execute_result",
          "data": {
            "text/plain": [
              "True"
            ]
          },
          "metadata": {},
          "execution_count": 177
        }
      ]
    },
    {
      "cell_type": "code",
      "source": [
        "k = np.array([0,0,1])\n",
        "e2_hip_2D = np.cross(k, e1_hip_2D)[:,[0,1]]\n",
        "np.all(np.isclose(np.linalg.norm(e2_hip_2D, axis=1),1))"
      ],
      "metadata": {
        "colab": {
          "base_uri": "https://localhost:8080/"
        },
        "id": "SNzqEKoSqUVq",
        "outputId": "9e43693f-b874-4197-ef79-41160bb929b7"
      },
      "execution_count": null,
      "outputs": [
        {
          "output_type": "execute_result",
          "data": {
            "text/plain": [
              "True"
            ]
          },
          "metadata": {},
          "execution_count": 178
        }
      ]
    },
    {
      "cell_type": "code",
      "source": [
        "np.all(np.isclose(np.sum(e1_hip_2D*e2_hip_2D, axis=1),0))"
      ],
      "metadata": {
        "colab": {
          "base_uri": "https://localhost:8080/"
        },
        "id": "CEAZi42rqYFJ",
        "outputId": "60e41cc3-7f91-432d-ea11-d9a47705f041"
      },
      "execution_count": null,
      "outputs": [
        {
          "output_type": "execute_result",
          "data": {
            "text/plain": [
              "True"
            ]
          },
          "metadata": {},
          "execution_count": 179
        }
      ]
    },
    {
      "cell_type": "code",
      "source": [
        "plt.rcParams['figure.figsize'] = (8,8)\n",
        "fig = plt.figure()\n",
        "ax = fig.add_axes([0,0,1,1])\n",
        "plt.plot(GT[:,0],GT[:,1],'.')\n",
        "for i in np.arange(0,len(GT),5):\n",
        "    vec1 = FancyArrowPatch(GT[i,:],GT[i,:]+0.5*e1_hip_2D[i,:], mutation_scale=30,color='r', label='e_1')\n",
        "    vec2 = FancyArrowPatch(GT[i,:],GT[i,:]+0.5*e2_hip_2D[i,:],mutation_scale=30,color='g', label='e_2')\n",
        "    ax.add_artist(vec1)\n",
        "    ax.add_artist(vec2)\n",
        "plt.xlim((0,1.8))\n",
        "plt.ylim((-1,0.5))\n",
        "plt.grid()\n",
        "plt.legend([vec1, vec2],[r'$\\vec{e_{1_hip_2D}}$', r'$\\vec{e_{2_hip_2D}}$'])\n",
        "plt.show()"
      ],
      "metadata": {
        "colab": {
          "base_uri": "https://localhost:8080/",
          "height": 624
        },
        "id": "TaHA6_W4qqkh",
        "outputId": "a803903a-05f1-4f3b-9ba3-9e7080964eb2"
      },
      "execution_count": null,
      "outputs": [
        {
          "output_type": "display_data",
          "data": {
            "text/plain": [
              "<Figure size 576x576 with 1 Axes>"
            ],
            "image/png": "[encoded data removed]"
          },
          "metadata": {
            "needs_background": "light"
          }
        }
      ]
    },
    {
      "cell_type": "code",
      "source": [
        "R_Knee = data[['R.Knee_Y','R.Knee_Z']].values/1000"
      ],
      "metadata": {
        "id": "vS2qyl9Su_An"
      },
      "execution_count": null,
      "outputs": []
    },
    {
      "cell_type": "code",
      "source": [
        "v1_femur_2D = R_Knee - GT\n",
        "e1_femur_2D = v1_femur_2D/np.linalg.norm(v1_femur_2D, axis=1, keepdims=True)"
      ],
      "metadata": {
        "id": "dj-XjsTSu-zH"
      },
      "execution_count": null,
      "outputs": []
    },
    {
      "cell_type": "code",
      "source": [
        "np.all(np.isclose(np.linalg.norm(e1_femur_2D,axis=1), 1))"
      ],
      "metadata": {
        "colab": {
          "base_uri": "https://localhost:8080/"
        },
        "id": "mgOcNZXJu-wV",
        "outputId": "0df1fc8e-f2ec-476c-8e37-43a8ee870c61"
      },
      "execution_count": null,
      "outputs": [
        {
          "output_type": "execute_result",
          "data": {
            "text/plain": [
              "True"
            ]
          },
          "metadata": {},
          "execution_count": 183
        }
      ]
    },
    {
      "cell_type": "code",
      "source": [
        "e2_femur_2D = np.cross(k, e1_femur_2D)[:,[0,1]]"
      ],
      "metadata": {
        "id": "aojaEs9xu-uU"
      },
      "execution_count": null,
      "outputs": []
    },
    {
      "cell_type": "code",
      "source": [
        "np.all(np.isclose(np.linalg.norm(e2_femur_2D,axis=1), 1))"
      ],
      "metadata": {
        "colab": {
          "base_uri": "https://localhost:8080/"
        },
        "id": "gHPS5Kyzu-rz",
        "outputId": "846d7cfb-a7be-4a54-bba8-f1c1ce0a1728"
      },
      "execution_count": null,
      "outputs": [
        {
          "output_type": "execute_result",
          "data": {
            "text/plain": [
              "True"
            ]
          },
          "metadata": {},
          "execution_count": 185
        }
      ]
    },
    {
      "cell_type": "code",
      "source": [
        "np.all(np.isclose(np.sum(e1_femur_2D*e2_femur_2D, axis=1),0))"
      ],
      "metadata": {
        "colab": {
          "base_uri": "https://localhost:8080/"
        },
        "id": "PtPKnH63u-pB",
        "outputId": "f2c99d5c-1605-4f55-af69-56921cdd6bcd"
      },
      "execution_count": null,
      "outputs": [
        {
          "output_type": "execute_result",
          "data": {
            "text/plain": [
              "True"
            ]
          },
          "metadata": {},
          "execution_count": 186
        }
      ]
    },
    {
      "cell_type": "code",
      "source": [
        "RG_hip = np.stack((e1_hip_2D, e2_hip_2D), axis=2)\n",
        "RG_femur = np.stack((e1_femur_2D, e2_femur_2D), axis=2)\n",
        "RG_femur_Transposta = np.transpose(RG_femur, (0,2,1))\n",
        "R_femur_hip = np.matmul(RG_femur_Transposta, RG_hip)\n",
        "angulo_quadril = 180/np.pi*np.arctan2(R_femur_hip[:, 1, 0], R_femur_hip[:, 0, 0])\n",
        "plt.plot(data['Time'], - angulo_quadril)\n",
        "plt.grid()"
      ],
      "metadata": {
        "colab": {
          "base_uri": "https://localhost:8080/",
          "height": 483
        },
        "id": "AtlqmT3-q-Oc",
        "outputId": "c46bbf0a-b181-45a5-b0b8-03735b379630"
      },
      "execution_count": null,
      "outputs": [
        {
          "output_type": "display_data",
          "data": {
            "text/plain": [
              "<Figure size 576x576 with 1 Axes>"
            ],
            "image/png": "[encoded data removed]"
          },
          "metadata": {
            "needs_background": "light"
          }
        }
      ]
    },
    {
      "cell_type": "code",
      "source": [
        "np.mean(angulo_quadril)"
      ],
      "metadata": {
        "colab": {
          "base_uri": "https://localhost:8080/"
        },
        "id": "2Glod7IXtoh6",
        "outputId": "0bf753ef-dedd-4517-c5a2-379e9ce2f9c9"
      },
      "execution_count": null,
      "outputs": [
        {
          "output_type": "execute_result",
          "data": {
            "text/plain": [
              "-46.880074421169056"
            ]
          },
          "metadata": {},
          "execution_count": 188
        }
      ]
    }
  ]
}